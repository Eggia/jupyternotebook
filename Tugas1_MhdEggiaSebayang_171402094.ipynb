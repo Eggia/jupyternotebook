{
 "cells": [
  {
   "cell_type": "code",
   "execution_count": 3,
   "metadata": {},
   "outputs": [
    {
     "name": "stdout",
     "output_type": "stream",
     "text": [
      "Masukan nilai :10\n",
      "0\n",
      "1\n",
      "1\n",
      "2\n",
      "3\n",
      "5\n",
      "8\n",
      "13\n",
      "21\n",
      "34\n"
     ]
    }
   ],
   "source": [
    "class Fibonacci:\n",
    "    def hitung_rekursif(self,a):\n",
    "        if (a==0):\n",
    "            return 0\n",
    "        elif (a<=2):\n",
    "            return 1\n",
    "        else:\n",
    "            fib = (self.hitung_rekursif(a-1)+self.hitung_rekursif(a-2))\n",
    "            return fib\n",
    "\n",
    "p1 = Fibonacci()\n",
    "nilai = int (input(\"Masukan nilai :\"))\n",
    "for i in range (0,nilai):\n",
    "    print(p1.hitung_rekursif(i))"
   ]
  },
  {
   "cell_type": "code",
   "execution_count": null,
   "metadata": {},
   "outputs": [],
   "source": []
  }
 ],
 "metadata": {
  "kernelspec": {
   "display_name": "Python 3",
   "language": "python",
   "name": "python3"
  },
  "language_info": {
   "codemirror_mode": {
    "name": "ipython",
    "version": 3
   },
   "file_extension": ".py",
   "mimetype": "text/x-python",
   "name": "python",
   "nbconvert_exporter": "python",
   "pygments_lexer": "ipython3",
   "version": "3.7.2"
  }
 },
 "nbformat": 4,
 "nbformat_minor": 2
}
